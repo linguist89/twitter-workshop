{
  "nbformat": 4,
  "nbformat_minor": 0,
  "metadata": {
    "colab": {
      "provenance": []
    },
    "kernelspec": {
      "name": "python3",
      "display_name": "Python 3"
    },
    "language_info": {
      "name": "python"
    }
  },
  "cells": [
    {
      "cell_type": "code",
      "source": [
        "# Tweepy\n",
        "!pip install tweepy\n",
        "!pip install wordcloud"
      ],
      "metadata": {
        "colab": {
          "base_uri": "https://localhost:8080/"
        },
        "id": "boYybdrGNygn",
        "outputId": "2482dc28-6394-4c3b-cb7d-23658f6b5db4"
      },
      "execution_count": 1,
      "outputs": [
        {
          "output_type": "stream",
          "name": "stdout",
          "text": [
            "Looking in indexes: https://pypi.org/simple, https://us-python.pkg.dev/colab-wheels/public/simple/\n",
            "Requirement already satisfied: tweepy in /usr/local/lib/python3.8/dist-packages (3.10.0)\n",
            "Requirement already satisfied: requests[socks]>=2.11.1 in /usr/local/lib/python3.8/dist-packages (from tweepy) (2.25.1)\n",
            "Requirement already satisfied: six>=1.10.0 in /usr/local/lib/python3.8/dist-packages (from tweepy) (1.15.0)\n",
            "Requirement already satisfied: requests-oauthlib>=0.7.0 in /usr/local/lib/python3.8/dist-packages (from tweepy) (1.3.1)\n",
            "Requirement already satisfied: oauthlib>=3.0.0 in /usr/local/lib/python3.8/dist-packages (from requests-oauthlib>=0.7.0->tweepy) (3.2.2)\n",
            "Requirement already satisfied: chardet<5,>=3.0.2 in /usr/local/lib/python3.8/dist-packages (from requests[socks]>=2.11.1->tweepy) (4.0.0)\n",
            "Requirement already satisfied: urllib3<1.27,>=1.21.1 in /usr/local/lib/python3.8/dist-packages (from requests[socks]>=2.11.1->tweepy) (1.24.3)\n",
            "Requirement already satisfied: idna<3,>=2.5 in /usr/local/lib/python3.8/dist-packages (from requests[socks]>=2.11.1->tweepy) (2.10)\n",
            "Requirement already satisfied: certifi>=2017.4.17 in /usr/local/lib/python3.8/dist-packages (from requests[socks]>=2.11.1->tweepy) (2022.12.7)\n",
            "Requirement already satisfied: PySocks!=1.5.7,>=1.5.6 in /usr/local/lib/python3.8/dist-packages (from requests[socks]>=2.11.1->tweepy) (1.7.1)\n"
          ]
        }
      ]
    },
    {
      "cell_type": "code",
      "source": [
        "import nltk\n",
        "import tweepy\n",
        "import pandas as pd\n",
        "import matplotlib.pyplot as plt\n",
        "from wordcloud import WordCloud\n",
        "from nltk import word_tokenize, pos_tag\n",
        "\n",
        "nltk.download('punkt')\n",
        "nltk.download('averaged_perceptron_tagger')\n",
        "nltk.download('maxent_ne_chunker')\n",
        "nltk.download('words')"
      ],
      "metadata": {
        "id": "L3qb7bShN28h"
      },
      "execution_count": 39,
      "outputs": []
    },
    {
      "cell_type": "code",
      "source": [
        "# Enter consumer key and consumer secret\n",
        "consumer_key = input(\"Enter the consumer key:\")\n",
        "consumer_secret = input(\"Enter the consumer secret:\")"
      ],
      "metadata": {
        "colab": {
          "base_uri": "https://localhost:8080/"
        },
        "id": "26wcj1mi8k4J",
        "outputId": "3a4a2526-45c6-432b-dfbe-9777a45d1f01"
      },
      "execution_count": 3,
      "outputs": [
        {
          "name": "stdout",
          "output_type": "stream",
          "text": [
            "Enter the consumer key:hk341QzVCNAQHP3TvulC479eI\n",
            "Enter the consumer secret:0hvExjtTaHf5jjVnB3fIUPeTylrX6oQEBbEqcTLYEk3iaCR0eA\n"
          ]
        }
      ]
    },
    {
      "cell_type": "code",
      "source": [
        "def get_entities(text):\n",
        "    entities = []\n",
        "    for sent in nltk.sent_tokenize(text):\n",
        "        for chunk in nltk.ne_chunk(nltk.pos_tag(nltk.word_tokenize(sent))):\n",
        "            if hasattr(chunk, 'label'):\n",
        "                entities.append((chunk.label(), ' '.join(c[0] for c in chunk)))\n",
        "    return entities\n",
        "    \n",
        "def generate_wordcloud(text):\n",
        "    wordcloud = WordCloud(max_font_size=50).generate(text)\n",
        "    plt.figure()\n",
        "    plt.imshow(wordcloud)\n",
        "    plt.axis(\"off\")\n",
        "    plt.show()"
      ],
      "metadata": {
        "id": "d35pQY71QcJo"
      },
      "execution_count": 70,
      "outputs": []
    },
    {
      "cell_type": "code",
      "source": [
        "auth = tweepy.OAuthHandler(\n",
        "   consumer_key, consumer_secret\n",
        ")\n",
        "\n",
        "api = tweepy.API(auth)"
      ],
      "metadata": {
        "id": "0WkmMD06N4kO"
      },
      "execution_count": 4,
      "outputs": []
    },
    {
      "cell_type": "code",
      "source": [
        "# Search for a screen name (returns default of 20 results)\n",
        "screen_name=input(\"Enter the screen name for the user you're searching: \")\n",
        "try:\n",
        "    user = api.get_user(screen_name=screen_name)\n",
        "    timeline_results = user.timeline(tweet_mode=\"extended\", count=20)\n",
        "    results = []\n",
        "    for t in timeline_results:\n",
        "        date = t.created_at\n",
        "        user = t.user.name\n",
        "        if \"retweeted_status\" in dir(t):\n",
        "            text = t.retweeted_status.full_text\n",
        "        else:\n",
        "            text = t.full_text\n",
        "        results.append((user, date, text))\n",
        "    df = pd.DataFrame(results, columns=['User', 'Date', 'Full Text'])\n",
        "except Exception as e: \n",
        "    print(e)"
      ],
      "metadata": {
        "id": "13Td7qCmOW5I"
      },
      "execution_count": 27,
      "outputs": []
    },
    {
      "cell_type": "code",
      "source": [
        "# Get a list of entity types\n",
        "df['Entities'] = df['Full Text'].apply(lambda x: get_entities(x))\n",
        "all_entities = df['Entities'].to_list()\n",
        "entity_types = [i for j in all_entities for i in j]\n",
        "entity_types = list(set([e[0] for e in entity_types]))\n",
        "entity_types.insert(0, \"ALL\")"
      ],
      "metadata": {
        "id": "lrGVRSBa9pnl"
      },
      "execution_count": 66,
      "outputs": []
    },
    {
      "cell_type": "code",
      "source": [
        "# Filter the entities that are used to create the wordcloud\n",
        "filter_type = input(f\"Enter a filter type ({entity_types}): \")\n",
        "\n",
        "# Generate the wordcloud\n",
        "if filter_type == \"ALL\":\n",
        "    entities = [[entity[1] for entity in entities] for entities in all_entities]\n",
        "else:\n",
        "    entities = [[entity[1] for entity in entities if entity[0] == filter_type] for entities in all_entities]\n",
        "text = ' '.join([i for j in entities for i in j])\n",
        "generate_wordcloud(text)"
      ],
      "metadata": {
        "id": "StXl0_N3Q1lm",
        "colab": {
          "base_uri": "https://localhost:8080/",
          "height": 234
        },
        "outputId": "56ae8d70-aff7-4ed7-86cb-65a0b6ab55db"
      },
      "execution_count": 69,
      "outputs": [
        {
          "name": "stdout",
          "output_type": "stream",
          "text": [
            "Enter a filter type (['ALL', 'GPE', 'PERSON', 'ORGANIZATION']): PERSON\n"
          ]
        },
        {
          "output_type": "display_data",
          "data": {
            "text/plain": [
              "<Figure size 432x288 with 1 Axes>"
            ],
            "image/png": "[encoded data removed]"
          },
          "metadata": {
            "needs_background": "light"
          }
        },
        {
          "output_type": "display_data",
          "data": {
            "text/plain": [
              "<Figure size 432x288 with 0 Axes>"
            ]
          },
          "metadata": {}
        }
      ]
    }
  ]
}